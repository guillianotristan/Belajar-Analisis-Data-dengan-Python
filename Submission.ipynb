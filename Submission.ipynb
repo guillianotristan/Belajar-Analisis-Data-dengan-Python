{
  "cells": [
    {
      "cell_type": "markdown",
      "metadata": {
        "id": "cP5zh7Ww85Fm"
      },
      "source": [
        "# Proyek Analisis Data: E-Commerce Public Dataset\n",
        "- Nama: Guilliano Tristan Anthony Stevenson\n",
        "- Email: guilliano.tristan@gmail.com\n",
        "- Id Dicoding: salvatoregiulianot"
      ]
    },
    {
      "cell_type": "markdown",
      "metadata": {
        "id": "ggwOFmpI88dG"
      },
      "source": [
        "## Menentukan Pertanyaan Bisnis"
      ]
    },
    {
      "cell_type": "markdown",
      "metadata": {
        "id": "6irqmTtg8-IC"
      },
      "source": [
        "1. Produk mana yang mencatat penjualan tertinggi dan tertinggi?\n",
        "2. Berapa total nilai transaksi yang dikeluarkan pelanggan dalam beberapa bulan terakhir?\n",
        "3. Bagaimana kinerja penjualan platform E-Commerce kami berkembang sepanjang waktu?\n",
        "4. Sejauh mana tingkat kepuasan pelanggan terhadap layanan kami?\n",
        "5. Apa profil demografis dari pelanggan kami, dan apakah ada perbedaan preferensi pembelian di antara mereka?\n",
        "6. Di wilayah geografis mana kita memiliki jumlah pelanggan terbanyak?"
      ]
    },
    {
      "cell_type": "markdown",
      "metadata": {
        "id": "EueHsNk89AsY"
      },
      "source": [
        "## Menyiapkan semua library yang dibutuhkan"
      ]
    },
    {
      "cell_type": "code",
      "execution_count": null,
      "metadata": {
        "id": "4cmWv4qc8xWu"
      },
      "outputs": [],
      "source": [
        "import numpy as np\n",
        "import pandas as pd\n",
        "import matplotlib.pyplot as plt\n",
        "import seaborn as sns\n",
        "import urllib\n",
        "import unidecode\n",
        "import matplotlib.image as mpimg"
      ]
    },
    {
      "cell_type": "markdown",
      "metadata": {
        "id": "7DwSpkkZ9BqV"
      },
      "source": [
        "## Data Wrangling"
      ]
    },
    {
      "cell_type": "markdown",
      "metadata": {
        "id": "ZuJuLGxe9D9O"
      },
      "source": [
        "### Gathering Data"
      ]
    },
    {
      "cell_type": "code",
      "execution_count": null,
      "metadata": {
        "colab": {
          "base_uri": "https://localhost:8080/",
          "height": 206
        },
        "id": "Rg3wtvOr9DUm",
        "outputId": "5becf1cb-600d-4878-b331-38549e06b317"
      },
      "outputs": [],
      "source": [
        "customers_df = pd.read_csv('E-Commerce Public Dataset/customers_dataset.csv')\n",
        "customers_df.head()"
      ]
    },
    {
      "cell_type": "code",
      "execution_count": null,
      "metadata": {
        "colab": {
          "base_uri": "https://localhost:8080/",
          "height": 206
        },
        "id": "D59NvqhC4Hch",
        "outputId": "6d2dbf34-04d8-415d-ef44-79c631e88a3a"
      },
      "outputs": [],
      "source": [
        "geo_df = pd.read_csv('E-Commerce Public Dataset/geolocation_dataset.csv')\n",
        "geo_df.head()"
      ]
    },
    {
      "cell_type": "code",
      "execution_count": null,
      "metadata": {
        "colab": {
          "base_uri": "https://localhost:8080/",
          "height": 270
        },
        "id": "cPOffOFe4PwC",
        "outputId": "12c7a1ce-2354-480d-8aaf-5b8f880316d5"
      },
      "outputs": [],
      "source": [
        "order_items = pd.read_csv('E-Commerce Public Dataset/order_items_dataset.csv')\n",
        "order_items.head()"
      ]
    },
    {
      "cell_type": "code",
      "execution_count": null,
      "metadata": {
        "colab": {
          "base_uri": "https://localhost:8080/",
          "height": 206
        },
        "id": "bduijdKu4ain",
        "outputId": "e1f4de97-66c8-4b48-86ac-1554ab0cb492"
      },
      "outputs": [],
      "source": [
        "order_pay = pd.read_csv('E-Commerce Public Dataset/order_payments_dataset.csv')\n",
        "order_pay.head()"
      ]
    },
    {
      "cell_type": "code",
      "execution_count": null,
      "metadata": {
        "colab": {
          "base_uri": "https://localhost:8080/",
          "height": 305
        },
        "id": "U42vCTJU4hDk",
        "outputId": "88d97d10-7d1a-430f-8c5b-d0e0da6eabf6"
      },
      "outputs": [],
      "source": [
        "order_rev = pd.read_csv('E-Commerce Public Dataset/order_reviews_dataset.csv')\n",
        "order_rev.head()"
      ]
    },
    {
      "cell_type": "code",
      "execution_count": null,
      "metadata": {
        "colab": {
          "base_uri": "https://localhost:8080/",
          "height": 270
        },
        "id": "fnMKfQaF4n4O",
        "outputId": "2e87d64e-4c8a-468f-8b32-ec5e4593d063"
      },
      "outputs": [],
      "source": [
        "orders_df = pd.read_csv('E-Commerce Public Dataset/orders_dataset.csv')\n",
        "orders_df.head()"
      ]
    },
    {
      "cell_type": "code",
      "execution_count": null,
      "metadata": {
        "colab": {
          "base_uri": "https://localhost:8080/",
          "height": 206
        },
        "id": "s6hnfRKU4tXx",
        "outputId": "33314036-3d90-421d-adf6-cf7af2c2e495"
      },
      "outputs": [],
      "source": [
        "product_cat = pd.read_csv('E-Commerce Public Dataset/product_category_name_translation.csv')\n",
        "product_cat.head()"
      ]
    },
    {
      "cell_type": "code",
      "execution_count": null,
      "metadata": {
        "colab": {
          "base_uri": "https://localhost:8080/",
          "height": 270
        },
        "id": "aDEY1wHR43o7",
        "outputId": "f9d2ce01-0444-446c-9f02-bef8d736a373"
      },
      "outputs": [],
      "source": [
        "products_df = pd.read_csv('E-Commerce Public Dataset/products_dataset.csv')\n",
        "products_df.head()"
      ]
    },
    {
      "cell_type": "code",
      "execution_count": null,
      "metadata": {
        "colab": {
          "base_uri": "https://localhost:8080/",
          "height": 206
        },
        "id": "U-4AHPRz49JV",
        "outputId": "7a80c9e5-c006-4c94-d128-fc6672f2bf28"
      },
      "outputs": [],
      "source": [
        "sellers_df = pd.read_csv('E-Commerce Public Dataset/sellers_dataset.csv')\n",
        "sellers_df.head()"
      ]
    },
    {
      "cell_type": "markdown",
      "metadata": {
        "id": "BvZAfrSH9F2U"
      },
      "source": [
        "### Assessing Data"
      ]
    },
    {
      "cell_type": "markdown",
      "metadata": {
        "id": "mvSjSDBd84S0"
      },
      "source": [
        "Melihat info dari masing-masing DataFrame"
      ]
    },
    {
      "cell_type": "code",
      "execution_count": null,
      "metadata": {
        "colab": {
          "base_uri": "https://localhost:8080/"
        },
        "id": "fx7PaLsV9G8M",
        "outputId": "7b0712c7-e5bc-4191-aaab-7d303d0ca281"
      },
      "outputs": [],
      "source": [
        "print('\\n', customers_df.info())\n",
        "print('\\n', geo_df.info())\n",
        "print('\\n', order_items.info())\n",
        "print('\\n', order_pay.info())\n",
        "print('\\n', order_rev.info())\n",
        "print('\\n', orders_df.info())\n",
        "print('\\n', product_cat.info())\n",
        "print('\\n', products_df.info())\n",
        "print('\\n', sellers_df.info())"
      ]
    },
    {
      "cell_type": "markdown",
      "metadata": {
        "id": "yGnfbfBy8_BV"
      },
      "source": [
        "Mengecek apakah ada data null pada setiap DataFrame"
      ]
    },
    {
      "cell_type": "code",
      "execution_count": null,
      "metadata": {
        "colab": {
          "base_uri": "https://localhost:8080/"
        },
        "id": "ckv9TGk39Cok",
        "outputId": "add9a69d-5b44-44e9-c55a-c33485ed0a15"
      },
      "outputs": [],
      "source": [
        "print('\\nInfo data null customers:\\n', customers_df.isnull().sum())\n",
        "print('\\nInfo data null geolocation:\\n', geo_df.isnull().sum())\n",
        "print('\\nInfo data null order items:\\n', order_items.isnull().sum())\n",
        "print('\\nInfo data null order payments:\\n', order_pay.isnull().sum())\n",
        "print('\\nInfo data null order reviews:\\n', order_rev.isnull().sum())\n",
        "print('\\nInfo data null orders:\\n', orders_df.isnull().sum())\n",
        "print('\\nInfo data null product category:\\n', product_cat.isnull().sum())\n",
        "print('\\nInfo data null products:\\n', products_df.isnull().sum())\n",
        "print('\\nInfo data null sellers:\\n', sellers_df.isnull().sum())"
      ]
    },
    {
      "cell_type": "markdown",
      "metadata": {
        "id": "BYgqAig49LWy"
      },
      "source": [
        "Mengecek apakah ada data duplikat pada setiap DataFrame"
      ]
    },
    {
      "cell_type": "code",
      "execution_count": null,
      "metadata": {
        "colab": {
          "base_uri": "https://localhost:8080/"
        },
        "id": "Z-PksbyF9Pnx",
        "outputId": "a1ef63ef-0fe4-4a27-a840-6788c4681b6d"
      },
      "outputs": [],
      "source": [
        "print('Info data duplikat customers:', customers_df.duplicated().sum())\n",
        "print('Info data duplikat geolocation:', geo_df.duplicated().sum())\n",
        "print('Info data duplikat order items:', order_items.duplicated().sum())\n",
        "print('Info data duplikat order payments:', order_pay.duplicated().sum())\n",
        "print('Info data duplikat order reviews:', order_rev.duplicated().sum())\n",
        "print('Info data duplikat orders:', orders_df.duplicated().sum())\n",
        "print('Info data duplikat product category:', product_cat.duplicated().sum())\n",
        "print('Info data duplikat products:', products_df.duplicated().sum())\n",
        "print('Info data duplikat sellers:', sellers_df.duplicated().sum())"
      ]
    },
    {
      "cell_type": "code",
      "execution_count": null,
      "metadata": {
        "colab": {
          "base_uri": "https://localhost:8080/"
        },
        "id": "svf5DD6-9r2l",
        "outputId": "3184123b-ee1f-494a-987d-3cc314ebbc9b"
      },
      "outputs": [],
      "source": [
        "print('\\nData describe customers:\\n', customers_df.describe(include='all'))\n",
        "print('\\nData describe geolocation:\\n', geo_df.describe(include='all'))\n",
        "print('\\nData describe order items:\\n', order_items.describe(include='all'))\n",
        "print('\\nData describe order payments:\\n', order_pay.describe(include='all'))\n",
        "print('\\nData describe order reviews:\\n', order_rev.describe(include='all'))\n",
        "print('\\nData describe orders:\\n', orders_df.describe(include='all'))\n",
        "print('\\nData describe product category:\\n', product_cat.describe(include='all'))\n",
        "print('\\nData describe products:\\n', products_df.describe(include='all'))\n",
        "print('\\nData describe sellers:\\n', sellers_df.describe(include='all'))"
      ]
    },
    {
      "cell_type": "code",
      "execution_count": null,
      "metadata": {
        "colab": {
          "base_uri": "https://localhost:8080/"
        },
        "id": "TIWqKcpZ-rQh",
        "outputId": "1e392ac0-a0c8-4bdb-8e02-fe0e5e752889"
      },
      "outputs": [],
      "source": [
        "geo_df.info()"
      ]
    },
    {
      "cell_type": "markdown",
      "metadata": {
        "id": "Uz5dgcJm9HW5"
      },
      "source": [
        "### Cleaning Data"
      ]
    },
    {
      "cell_type": "markdown",
      "metadata": {
        "id": "s_agC55i-Sxv"
      },
      "source": [
        "Dikarenakan pada dataframe yang memiliki data duplikat adalah pada Geolocation dataset, jadi saya tidak melakukan drop duplikat karena kemungkinan terjadi adalah karena pada kolom **'geolocation_city','geolocation_state'** value tertinggi adalah **sao paulo (SP)**"
      ]
    },
    {
      "cell_type": "code",
      "execution_count": null,
      "metadata": {
        "colab": {
          "base_uri": "https://localhost:8080/",
          "height": 557
        },
        "id": "6zJTqCk-AAv1",
        "outputId": "ddd10d99-a2cf-4732-ccb0-4689489dcf6a"
      },
      "outputs": [],
      "source": [
        "order_rev[order_rev.review_comment_title.isna()]"
      ]
    },
    {
      "cell_type": "code",
      "execution_count": null,
      "metadata": {
        "colab": {
          "base_uri": "https://localhost:8080/"
        },
        "id": "zL3ow9BSBGCk",
        "outputId": "da330c70-db84-4f33-eeb6-34a37815423d"
      },
      "outputs": [],
      "source": [
        "order_rev.review_comment_title.value_counts()"
      ]
    },
    {
      "cell_type": "code",
      "execution_count": null,
      "metadata": {
        "colab": {
          "base_uri": "https://localhost:8080/",
          "height": 488
        },
        "id": "pvObb8iRAIh4",
        "outputId": "4384d5c4-6d26-45f0-9e29-45d229bffa15"
      },
      "outputs": [],
      "source": [
        "order_rev[order_rev.review_comment_message.isna()]"
      ]
    },
    {
      "cell_type": "code",
      "execution_count": null,
      "metadata": {
        "colab": {
          "base_uri": "https://localhost:8080/"
        },
        "id": "CePFfKNPBM9h",
        "outputId": "019d56ca-e5f5-4dfc-a92e-bbd16f7249d4"
      },
      "outputs": [],
      "source": [
        "order_rev.review_comment_message.value_counts()"
      ]
    },
    {
      "cell_type": "code",
      "execution_count": null,
      "metadata": {
        "id": "FowndkUuBheD"
      },
      "outputs": [],
      "source": [
        "order_rev.fillna(value=\"no comment\", inplace=True)"
      ]
    },
    {
      "cell_type": "code",
      "execution_count": null,
      "metadata": {
        "colab": {
          "base_uri": "https://localhost:8080/",
          "height": 488
        },
        "id": "Wzz9mfq2CTV3",
        "outputId": "f6bab900-7f4e-400c-922c-f9a070b72114"
      },
      "outputs": [],
      "source": [
        "orders_df[orders_df.order_approved_at.isna()]"
      ]
    },
    {
      "cell_type": "code",
      "execution_count": null,
      "metadata": {
        "id": "rYRBy2fqEVOl"
      },
      "outputs": [],
      "source": [
        "datetime_oi = [\"shipping_limit_date\"]\n",
        " \n",
        "for column in datetime_oi:\n",
        "  order_items[column] = pd.to_datetime(order_items[column])"
      ]
    },
    {
      "cell_type": "code",
      "execution_count": null,
      "metadata": {
        "id": "jb5URslTEiT6"
      },
      "outputs": [],
      "source": [
        "datetime_or = [\"review_creation_date\",\"review_answer_timestamp\"]\n",
        " \n",
        "for column in datetime_or:\n",
        "  order_rev[column] = pd.to_datetime(order_rev[column])"
      ]
    },
    {
      "cell_type": "code",
      "execution_count": null,
      "metadata": {
        "id": "nqS9wobNEq1N"
      },
      "outputs": [],
      "source": [
        "datetime_oo = [\"order_purchase_timestamp\",\"order_approved_at\",\"order_delivered_carrier_date\",\"order_delivered_customer_date\",\"order_estimated_delivery_date\"]\n",
        " \n",
        "for column in datetime_oo:\n",
        "  orders_df[column] = pd.to_datetime(orders_df[column])"
      ]
    },
    {
      "cell_type": "code",
      "execution_count": null,
      "metadata": {
        "colab": {
          "base_uri": "https://localhost:8080/"
        },
        "id": "nL95kamOF1-L",
        "outputId": "f2157472-4be5-40b4-8a6c-3559d40c6360"
      },
      "outputs": [],
      "source": [
        "order_items.info()"
      ]
    },
    {
      "cell_type": "code",
      "execution_count": null,
      "metadata": {
        "colab": {
          "base_uri": "https://localhost:8080/"
        },
        "id": "fMd1Z453F4V-",
        "outputId": "31c272db-58dc-4c1e-a990-878a2e25b40e"
      },
      "outputs": [],
      "source": [
        "order_rev.info()"
      ]
    },
    {
      "cell_type": "code",
      "execution_count": null,
      "metadata": {
        "colab": {
          "base_uri": "https://localhost:8080/"
        },
        "id": "PaLjMVIhF6ZI",
        "outputId": "fdd304e2-6af5-406f-8c73-52ebbb3ea0b2"
      },
      "outputs": [],
      "source": [
        "orders_df.info()"
      ]
    },
    {
      "cell_type": "markdown",
      "metadata": {
        "id": "EyPJaCDm9KFb"
      },
      "source": [
        "## Exploratory Data Analysis (EDA)"
      ]
    },
    {
      "cell_type": "markdown",
      "metadata": {
        "id": "hxgJ6qd69Mce"
      },
      "source": [
        "### Explore customers_df"
      ]
    },
    {
      "cell_type": "code",
      "execution_count": null,
      "metadata": {
        "colab": {
          "base_uri": "https://localhost:8080/",
          "height": 206
        },
        "id": "Xo68yguo9LTl",
        "outputId": "5404824d-aff3-445d-cc5d-3162a20dd449"
      },
      "outputs": [],
      "source": [
        "customers_df.sample(5)"
      ]
    },
    {
      "cell_type": "code",
      "execution_count": null,
      "metadata": {
        "colab": {
          "base_uri": "https://localhost:8080/",
          "height": 394
        },
        "id": "kdJNlmv9ANYg",
        "outputId": "62db492e-9715-4bcd-b903-0ecf16a161df"
      },
      "outputs": [],
      "source": [
        "customers_df.describe(include='all')"
      ]
    },
    {
      "cell_type": "code",
      "execution_count": null,
      "metadata": {
        "colab": {
          "base_uri": "https://localhost:8080/"
        },
        "id": "4zWRnsldAhPR",
        "outputId": "69ee6b53-0cad-4cff-e9f7-71fbb153c846"
      },
      "outputs": [],
      "source": [
        "customers_df.customer_id.is_unique"
      ]
    },
    {
      "cell_type": "code",
      "execution_count": null,
      "metadata": {
        "colab": {
          "base_uri": "https://localhost:8080/"
        },
        "id": "fZcUhKXuAnPT",
        "outputId": "1e21d5be-3632-4e12-baa6-b035fcac59ea"
      },
      "outputs": [],
      "source": [
        "customers_df.customer_id.duplicated()"
      ]
    },
    {
      "cell_type": "code",
      "execution_count": null,
      "metadata": {
        "colab": {
          "base_uri": "https://localhost:8080/"
        },
        "id": "LuIN7K0VA1Ns",
        "outputId": "f2be9b14-51d7-4847-df7a-b900c1169ec9"
      },
      "outputs": [],
      "source": [
        "customers_df.groupby(by=\"customer_city\").customer_id.nunique().sort_values(ascending=False)"
      ]
    },
    {
      "cell_type": "code",
      "execution_count": null,
      "metadata": {
        "colab": {
          "base_uri": "https://localhost:8080/"
        },
        "id": "ZyL_ru0aBXs-",
        "outputId": "f697979a-13c6-4ba1-faab-1a01cba592a0"
      },
      "outputs": [],
      "source": [
        "customers_df.groupby(by=\"customer_state\").customer_id.nunique().sort_values(ascending=False)"
      ]
    },
    {
      "cell_type": "markdown",
      "metadata": {
        "id": "sMtBryohBifw"
      },
      "source": [
        "### Explore order_pay"
      ]
    },
    {
      "cell_type": "code",
      "execution_count": null,
      "metadata": {
        "colab": {
          "base_uri": "https://localhost:8080/",
          "height": 206
        },
        "id": "xR-PjkIJBlKE",
        "outputId": "d1434e73-b670-490e-efeb-53af22900412"
      },
      "outputs": [],
      "source": [
        "order_pay.sample(5)"
      ]
    },
    {
      "cell_type": "code",
      "execution_count": null,
      "metadata": {
        "colab": {
          "base_uri": "https://localhost:8080/",
          "height": 394
        },
        "id": "6jAF3MF7CC7C",
        "outputId": "eb38b080-9506-4d94-a121-75693e9c330f"
      },
      "outputs": [],
      "source": [
        "order_pay.describe(include='all')"
      ]
    },
    {
      "cell_type": "code",
      "execution_count": null,
      "metadata": {
        "colab": {
          "base_uri": "https://localhost:8080/"
        },
        "id": "SWZP3AxqC4Q8",
        "outputId": "bab917de-47ba-4e73-dea2-813f14259e39"
      },
      "outputs": [],
      "source": [
        "order_pay.groupby(by=\"payment_type\").order_id.nunique().sort_values(ascending=False)"
      ]
    },
    {
      "cell_type": "markdown",
      "metadata": {
        "id": "08llRuqBDvNE"
      },
      "source": [
        "### Explore orders_df"
      ]
    },
    {
      "cell_type": "code",
      "execution_count": null,
      "metadata": {
        "colab": {
          "base_uri": "https://localhost:8080/",
          "height": 270
        },
        "id": "vJxya6r3DybE",
        "outputId": "2c647989-52dc-4575-ec78-276984f45410"
      },
      "outputs": [],
      "source": [
        "orders_df.sample(5)"
      ]
    },
    {
      "cell_type": "code",
      "execution_count": null,
      "metadata": {
        "id": "y5t-XTzAEYew"
      },
      "outputs": [],
      "source": [
        "delivery_time = orders_df[\"order_delivered_customer_date\"] - orders_df[\"order_delivered_carrier_date\"]\n",
        "delivery_time = delivery_time.apply(lambda x: x.total_seconds())\n",
        "orders_df[\"delivery_time\"] = round(delivery_time/86400)"
      ]
    },
    {
      "cell_type": "code",
      "execution_count": null,
      "metadata": {
        "colab": {
          "base_uri": "https://localhost:8080/",
          "height": 270
        },
        "id": "LBEcthU5Ed3Y",
        "outputId": "b9766a99-952a-46d3-a64d-0773505ef59b"
      },
      "outputs": [],
      "source": [
        "orders_df.sample(5)"
      ]
    },
    {
      "cell_type": "code",
      "execution_count": null,
      "metadata": {
        "colab": {
          "base_uri": "https://localhost:8080/",
          "height": 447
        },
        "id": "h8oi2SB0EsYu",
        "outputId": "6776d512-c6c5-438c-feff-f2efc8a60111"
      },
      "outputs": [],
      "source": [
        "orders_df.delivery_time.hist()"
      ]
    },
    {
      "cell_type": "code",
      "execution_count": null,
      "metadata": {
        "colab": {
          "base_uri": "https://localhost:8080/",
          "height": 206
        },
        "id": "rY3PPjmdFSVs",
        "outputId": "4b9c74b9-873c-4c4a-b0be-839042feb398"
      },
      "outputs": [],
      "source": [
        "customer_id_in_orders_df = orders_df.customer_id.values\n",
        "customers_df[\"status\"] = customers_df[\"customer_id\"].apply(lambda x: \"Active\" if x in customer_id_in_orders_df else \"Non Active\")\n",
        "customers_df.sample(5)"
      ]
    },
    {
      "cell_type": "code",
      "execution_count": null,
      "metadata": {
        "colab": {
          "base_uri": "https://localhost:8080/"
        },
        "id": "zferhebSFah_",
        "outputId": "d262acad-f747-45b6-fb5e-647b4a01dd09"
      },
      "outputs": [],
      "source": [
        "customers_df.groupby(by=\"status\").customer_id.count()"
      ]
    },
    {
      "cell_type": "markdown",
      "metadata": {
        "id": "yvq7D6M0IZPo"
      },
      "source": [
        "### Explore customers_df & orders_df\n",
        "#### Merge customers_df & orders_df"
      ]
    },
    {
      "cell_type": "code",
      "execution_count": null,
      "metadata": {
        "colab": {
          "base_uri": "https://localhost:8080/",
          "height": 305
        },
        "id": "MClBDfg8GpPM",
        "outputId": "cc1d4a97-98a8-4ee0-ef64-d043c595fa2e"
      },
      "outputs": [],
      "source": [
        "cust_orders_df = pd.merge(\n",
        "    left=customers_df,\n",
        "    right=orders_df,\n",
        "    how=\"left\",\n",
        "    left_on=\"customer_id\",\n",
        "    right_on=\"customer_id\"\n",
        ")\n",
        "cust_orders_df.head()"
      ]
    },
    {
      "cell_type": "code",
      "execution_count": null,
      "metadata": {
        "colab": {
          "base_uri": "https://localhost:8080/"
        },
        "id": "c7bweK_HIhXp",
        "outputId": "45f032b9-f4e2-4017-89c1-2cce8a00befd"
      },
      "outputs": [],
      "source": [
        "cust_orders_df.groupby(by=\"customer_city\").order_id.nunique().sort_values(ascending=False).head(10)"
      ]
    },
    {
      "cell_type": "code",
      "execution_count": null,
      "metadata": {
        "colab": {
          "base_uri": "https://localhost:8080/"
        },
        "id": "dTrEOcE5InQt",
        "outputId": "7ec65739-e802-430f-b727-70a6fbaa2d6b"
      },
      "outputs": [],
      "source": [
        "cust_orders_df.groupby(by=\"customer_state\").order_id.nunique().sort_values(ascending=False).head(10)"
      ]
    },
    {
      "cell_type": "code",
      "execution_count": null,
      "metadata": {
        "colab": {
          "base_uri": "https://localhost:8080/"
        },
        "id": "yb3Yst0gIrxP",
        "outputId": "b4bc0eed-1175-4127-ea8d-2b448734d5ec"
      },
      "outputs": [],
      "source": [
        "cust_orders_df.groupby(by=\"customer_zip_code_prefix\").order_id.nunique().sort_values(ascending=False).head(10)"
      ]
    },
    {
      "cell_type": "code",
      "execution_count": null,
      "metadata": {
        "colab": {
          "base_uri": "https://localhost:8080/"
        },
        "id": "dBoWj77pIvey",
        "outputId": "618341ec-ea82-4b51-8c80-b134a1bd9587"
      },
      "outputs": [],
      "source": [
        "cust_orders_df.groupby(by=\"order_status\").order_id.nunique().sort_values(ascending=False).head(10)"
      ]
    },
    {
      "cell_type": "markdown",
      "metadata": {
        "id": "AqGWEUGnVtcL"
      },
      "source": [
        "### Merge order_pay & order_rev"
      ]
    },
    {
      "cell_type": "code",
      "execution_count": null,
      "metadata": {
        "colab": {
          "base_uri": "https://localhost:8080/",
          "height": 305
        },
        "id": "X3LlKvyhVsQr",
        "outputId": "8c98e078-6176-4907-d290-53800146617e"
      },
      "outputs": [],
      "source": [
        "order_payrev_df = pd.merge(\n",
        "    left=order_pay,\n",
        "    right=order_rev,\n",
        "    how=\"left\",\n",
        "    left_on=\"order_id\",\n",
        "    right_on=\"order_id\"\n",
        ")\n",
        "order_payrev_df.head()"
      ]
    },
    {
      "cell_type": "code",
      "execution_count": null,
      "metadata": {
        "colab": {
          "base_uri": "https://localhost:8080/"
        },
        "id": "RRn1D4k3WE92",
        "outputId": "549cdf81-b947-4335-8cd5-6c0e881218ea"
      },
      "outputs": [],
      "source": [
        "order_payrev_df.groupby(by=\"payment_type\").order_id.nunique().sort_values(ascending=False).head(10)"
      ]
    },
    {
      "cell_type": "code",
      "execution_count": null,
      "metadata": {
        "colab": {
          "base_uri": "https://localhost:8080/",
          "height": 644
        },
        "id": "zsUe3ChyWSB5",
        "outputId": "183bfda2-b369-4c14-f660-86e23d43395d"
      },
      "outputs": [],
      "source": [
        "order_payrev_df.sort_values(by=\"payment_value\", ascending=False)"
      ]
    },
    {
      "cell_type": "code",
      "execution_count": null,
      "metadata": {
        "colab": {
          "base_uri": "https://localhost:8080/",
          "height": 269
        },
        "id": "69NoKBqoWhAk",
        "outputId": "630b8e72-88f5-4217-de6b-105af17e7e6b"
      },
      "outputs": [],
      "source": [
        "order_payrev_df.groupby(by=\"payment_type\").agg({\n",
        "    \"order_id\": \"nunique\",\n",
        "    \"payment_value\":  [\"min\", \"max\"]\n",
        "})"
      ]
    },
    {
      "cell_type": "markdown",
      "metadata": {
        "id": "5PRyWwduWz61"
      },
      "source": [
        "#### Merge cust_orders_df & order_payrev"
      ]
    },
    {
      "cell_type": "code",
      "execution_count": null,
      "metadata": {
        "colab": {
          "base_uri": "https://localhost:8080/",
          "height": 352
        },
        "id": "pAHcG2ygW8sb",
        "outputId": "d3a092a3-6883-4772-bcab-9c813e947907"
      },
      "outputs": [],
      "source": [
        "customers_df = pd.merge(\n",
        "    left=cust_orders_df,\n",
        "    right=order_payrev_df,\n",
        "    how=\"left\",\n",
        "    left_on=\"order_id\",\n",
        "    right_on=\"order_id\"\n",
        ")\n",
        "customers_df.head()"
      ]
    },
    {
      "cell_type": "markdown",
      "metadata": {
        "id": "hUSTcJ27RYl1"
      },
      "source": [
        "### Explore order_items & sellers_df"
      ]
    },
    {
      "cell_type": "markdown",
      "metadata": {
        "id": "Xm7GU3VlRhyW"
      },
      "source": [
        "#### Merge order_items & sellers_df"
      ]
    },
    {
      "cell_type": "code",
      "execution_count": null,
      "metadata": {
        "colab": {
          "base_uri": "https://localhost:8080/",
          "height": 305
        },
        "id": "hiIuDMiIRSsd",
        "outputId": "62b16bfa-da5d-456c-a87b-ee8313304221"
      },
      "outputs": [],
      "source": [
        "item_seller_df = pd.merge(\n",
        "    left=order_items,\n",
        "    right=sellers_df,\n",
        "    how=\"left\",\n",
        "    left_on=\"seller_id\",\n",
        "    right_on=\"seller_id\"\n",
        ")\n",
        "item_seller_df.head()"
      ]
    },
    {
      "cell_type": "code",
      "execution_count": null,
      "metadata": {
        "colab": {
          "base_uri": "https://localhost:8080/"
        },
        "id": "PiEyT_H-Rii8",
        "outputId": "fad44133-5540-4ae9-def4-c9e14d8b9c12"
      },
      "outputs": [],
      "source": [
        "item_seller_df.groupby(by=\"seller_city\").seller_id.nunique().sort_values(ascending=False).head(10)"
      ]
    },
    {
      "cell_type": "code",
      "execution_count": null,
      "metadata": {
        "colab": {
          "base_uri": "https://localhost:8080/"
        },
        "id": "KPt8Cup6RnRA",
        "outputId": "51dc6db8-b92b-4d5d-f7a7-157573c41e58"
      },
      "outputs": [],
      "source": [
        "item_seller_df.groupby(by=\"seller_state\").seller_id.nunique().sort_values(ascending=False).head(10)"
      ]
    },
    {
      "cell_type": "markdown",
      "metadata": {
        "id": "Wu6YiPaVI6Ax"
      },
      "source": [
        "### Explore products_df & product_cat\n",
        "#### Merge products_df & product_cat"
      ]
    },
    {
      "cell_type": "code",
      "execution_count": null,
      "metadata": {
        "colab": {
          "base_uri": "https://localhost:8080/",
          "height": 270
        },
        "id": "GxZMf-NiJljA",
        "outputId": "ef1ea5af-6bf2-4878-a74f-ec2cfed7a412"
      },
      "outputs": [],
      "source": [
        "product_df = pd.merge(\n",
        "    left=products_df,\n",
        "    right=product_cat,\n",
        "    how=\"left\",\n",
        "    left_on=\"product_category_name\",\n",
        "    right_on=\"product_category_name\"\n",
        ") \n",
        "product_df.head()"
      ]
    },
    {
      "cell_type": "code",
      "execution_count": null,
      "metadata": {
        "colab": {
          "base_uri": "https://localhost:8080/"
        },
        "id": "dZ2lNfycShwM",
        "outputId": "217d374d-a328-4513-ffeb-2df7a7663a4f"
      },
      "outputs": [],
      "source": [
        "product_df.groupby(by=\"product_category_name\").product_id.nunique().sort_values(ascending=False).head(10)"
      ]
    },
    {
      "cell_type": "code",
      "execution_count": null,
      "metadata": {
        "colab": {
          "base_uri": "https://localhost:8080/"
        },
        "id": "We4-l4sdSp-n",
        "outputId": "a548f871-2a90-4a5d-a6e6-6ca3808eb050"
      },
      "outputs": [],
      "source": [
        "product_df.groupby(by=\"product_category_name_english\").product_id.nunique().sort_values(ascending=False).head(10)"
      ]
    },
    {
      "cell_type": "markdown",
      "metadata": {
        "id": "lLogjPEJXSb2"
      },
      "source": [
        "#### Merge item_seller_df & product_df"
      ]
    },
    {
      "cell_type": "code",
      "execution_count": null,
      "metadata": {
        "colab": {
          "base_uri": "https://localhost:8080/",
          "height": 270
        },
        "id": "wqWsppmvTNne",
        "outputId": "186a20a1-2d7c-4028-86a4-c57034999b05"
      },
      "outputs": [],
      "source": [
        "sellers_df = pd.merge(\n",
        "    left=product_df,\n",
        "    right=item_seller_df,\n",
        "    how=\"left\",\n",
        "    left_on=\"product_id\",\n",
        "    right_on=\"product_id\"\n",
        ") \n",
        "sellers_df.head()"
      ]
    },
    {
      "cell_type": "code",
      "execution_count": null,
      "metadata": {
        "colab": {
          "base_uri": "https://localhost:8080/",
          "height": 488
        },
        "id": "wFa8dGQpXqtx",
        "outputId": "de3c7361-5bc8-431d-d5b0-5ec7a60d2301"
      },
      "outputs": [],
      "source": [
        "sellers_df.sort_values(by=\"price\", ascending=False)"
      ]
    },
    {
      "cell_type": "code",
      "execution_count": null,
      "metadata": {
        "colab": {
          "base_uri": "https://localhost:8080/",
          "height": 486
        },
        "id": "_Iqueq5xX2sm",
        "outputId": "86f5d774-0ade-4a70-f743-3b1d5090cd6e"
      },
      "outputs": [],
      "source": [
        "sellers_df.groupby(by=\"product_category_name_english\").agg({\n",
        "    \"order_id\": \"nunique\",\n",
        "    \"price\":  [\"min\", \"max\"]\n",
        "})"
      ]
    },
    {
      "cell_type": "markdown",
      "metadata": {
        "id": "KWlfUJqA60lB"
      },
      "source": [
        "### Explore geo_df"
      ]
    },
    {
      "cell_type": "code",
      "execution_count": null,
      "metadata": {
        "colab": {
          "base_uri": "https://localhost:8080/",
          "height": 206
        },
        "id": "9bERCqnW6zV-",
        "outputId": "26157509-704e-4dfa-c28b-99576b9b1584"
      },
      "outputs": [],
      "source": [
        "geo_df.sample(5)"
      ]
    },
    {
      "cell_type": "code",
      "execution_count": null,
      "metadata": {
        "id": "r2R0sHVQ659n"
      },
      "outputs": [],
      "source": [
        "def pretty_string(column):\n",
        "    column_space = ' '.join(column.split())\n",
        "    return unidecode.unidecode(column_space.lower())"
      ]
    },
    {
      "cell_type": "code",
      "execution_count": null,
      "metadata": {
        "id": "JI3gTCan87aE"
      },
      "outputs": [],
      "source": [
        "geo_df['geolocation_city'] = geo_df['geolocation_city'].apply(pretty_string)"
      ]
    },
    {
      "cell_type": "code",
      "execution_count": null,
      "metadata": {
        "colab": {
          "base_uri": "https://localhost:8080/"
        },
        "id": "mwN2ZnW59DMz",
        "outputId": "708a8f33-c9af-43bd-8052-bc2bd251700f"
      },
      "outputs": [],
      "source": [
        "geo_df.groupby('geolocation_zip_code_prefix').size().sort_values(ascending=False)"
      ]
    },
    {
      "cell_type": "code",
      "execution_count": null,
      "metadata": {
        "colab": {
          "base_uri": "https://localhost:8080/",
          "height": 206
        },
        "id": "usTodjzl9PfH",
        "outputId": "305a9509-f4cb-4f0a-d61b-a817c4661d18"
      },
      "outputs": [],
      "source": [
        "geo_df[geo_df['geolocation_zip_code_prefix'] == 24220].head() "
      ]
    },
    {
      "cell_type": "markdown",
      "metadata": {
        "id": "tRoG3HBFYLBw"
      },
      "source": [
        "### Explore All Data\n",
        "#### Merge all data\n",
        "\n",
        "Pada kasus ini saya tidak menggabungkan dataset geolocation, karena menurut saya dataset ini tidak begitu diperlukan."
      ]
    },
    {
      "cell_type": "code",
      "execution_count": null,
      "metadata": {
        "colab": {
          "base_uri": "https://localhost:8080/",
          "height": 334
        },
        "id": "PKLem-XBYR7d",
        "outputId": "0e135af3-23e2-41b5-aa0f-4785c9315ce7"
      },
      "outputs": [],
      "source": [
        "all_data = pd.merge(\n",
        "    left=customers_df,\n",
        "    right=sellers_df,\n",
        "    how=\"left\",\n",
        "    left_on=\"order_id\",\n",
        "    right_on=\"order_id\"\n",
        ") \n",
        "all_data.head()"
      ]
    },
    {
      "cell_type": "code",
      "execution_count": null,
      "metadata": {
        "colab": {
          "base_uri": "https://localhost:8080/"
        },
        "id": "NXd3Za5SY04f",
        "outputId": "06daa572-f8e1-4ccf-811d-be65cda0b02b"
      },
      "outputs": [],
      "source": [
        "all_data.info()"
      ]
    },
    {
      "cell_type": "code",
      "execution_count": null,
      "metadata": {
        "colab": {
          "base_uri": "https://localhost:8080/",
          "height": 455
        },
        "id": "9qDEe_w4Ysyq",
        "outputId": "2bd3107d-c5b5-4692-cc91-f19a83ef927e"
      },
      "outputs": [],
      "source": [
        "all_data.groupby(by=[\"customer_city\", \"product_category_name_english\"]).agg({\n",
        "    \"price\": \"sum\",\n",
        "    \"freight_value\": \"sum\"\n",
        "})"
      ]
    },
    {
      "cell_type": "code",
      "execution_count": null,
      "metadata": {
        "colab": {
          "base_uri": "https://localhost:8080/",
          "height": 455
        },
        "id": "CdZSMPzoZbE7",
        "outputId": "02496a40-b8d5-47bc-a7f4-80242b44a71c"
      },
      "outputs": [],
      "source": [
        "all_data.groupby(by=[\"customer_state\", \"product_category_name_english\"]).agg({\n",
        "    \"price\": \"sum\",\n",
        "    \"freight_value\": \"sum\"\n",
        "})"
      ]
    },
    {
      "cell_type": "code",
      "execution_count": null,
      "metadata": {
        "colab": {
          "base_uri": "https://localhost:8080/",
          "height": 927
        },
        "id": "FoP6KZuJZl8M",
        "outputId": "cad0ff10-96b6-4ae8-f068-8cb3053ab488"
      },
      "outputs": [],
      "source": [
        "all_data.groupby(by=\"customer_state\").agg({\n",
        "    \"order_id\": \"nunique\",\n",
        "    \"payment_value\": \"sum\"\n",
        "}).sort_values(by=\"payment_value\", ascending=False)"
      ]
    },
    {
      "cell_type": "code",
      "execution_count": null,
      "metadata": {
        "colab": {
          "base_uri": "https://localhost:8080/",
          "height": 486
        },
        "id": "lOhmT5asbbGZ",
        "outputId": "23655401-e20f-4864-94ba-2d05d75389f2"
      },
      "outputs": [],
      "source": [
        "all_data.groupby(by=\"product_category_name_english\").agg({\n",
        "    \"order_id\": \"nunique\",\n",
        "    \"review_score\":  [\"min\", \"max\"]\n",
        "})"
      ]
    },
    {
      "cell_type": "markdown",
      "metadata": {
        "id": "haDdakOHb3Q2"
      },
      "source": [
        "### Convert all_data to .csv"
      ]
    },
    {
      "cell_type": "code",
      "execution_count": null,
      "metadata": {
        "id": "oI9vyoflb2sK"
      },
      "outputs": [],
      "source": [
        "all_data.to_csv('dataset/all_data.csv', index=False)"
      ]
    },
    {
      "cell_type": "markdown",
      "metadata": {
        "id": "SCNmtOLp9OKB"
      },
      "source": [
        "## Visualization & Explanatory Analysis"
      ]
    },
    {
      "cell_type": "markdown",
      "metadata": {
        "id": "SG59_Fbj9Qr6"
      },
      "source": [
        "### Pertanyaan 1: Produk mana yang mencatat penjualan tertinggi dan tertinggi?"
      ]
    },
    {
      "cell_type": "code",
      "execution_count": null,
      "metadata": {
        "colab": {
          "base_uri": "https://localhost:8080/",
          "height": 206
        },
        "id": "dtRoaxqd9PdU",
        "outputId": "a03a32fb-5e7f-430c-dd02-667437d7396c"
      },
      "outputs": [],
      "source": [
        "sum_order_items_df = all_data.groupby(\"product_category_name_english\")[\"product_id\"].count().reset_index()\n",
        "sum_order_items_df = sum_order_items_df.rename(columns={\"product_id\": \"products\"})\n",
        "sum_order_items_df = sum_order_items_df.sort_values(by=\"products\", ascending=False)\n",
        "sum_order_items_df = sum_order_items_df.head(10)\n",
        "\n",
        "sum_order_items_df.head()"
      ]
    },
    {
      "cell_type": "code",
      "execution_count": null,
      "metadata": {
        "colab": {
          "base_uri": "https://localhost:8080/",
          "height": 325
        },
        "id": "RmTaCTTUe_PQ",
        "outputId": "d8074531-f3fa-488b-c50c-b1b8e30669aa"
      },
      "outputs": [],
      "source": [
        "fig, ax = plt.subplots(nrows=1, ncols=2, figsize=(24, 6))\n",
        "\n",
        "colors = [\"#068DA9\", \"#D3D3D3\", \"#D3D3D3\", \"#D3D3D3\", \"#D3D3D3\"]\n",
        "\n",
        "sns.barplot(x=\"products\", y=\"product_category_name_english\", data=sum_order_items_df.head(5), palette=colors, ax=ax[0])\n",
        "ax[0].set_ylabel(None)\n",
        "ax[0].set_xlabel(None)\n",
        "ax[0].set_title(\"Produk paling banyak terjual\", loc=\"center\", fontsize=18)\n",
        "ax[0].tick_params(axis ='y', labelsize=15)\n",
        "\n",
        "sns.barplot(x=\"products\", y=\"product_category_name_english\", data=sum_order_items_df.sort_values(by=\"products\", ascending=True).head(5), palette=colors, ax=ax[1])\n",
        "ax[1].set_ylabel(None)\n",
        "ax[1].set_xlabel(None)\n",
        "ax[1].invert_xaxis()\n",
        "ax[1].yaxis.set_label_position(\"right\")\n",
        "ax[1].yaxis.tick_right()\n",
        "ax[1].set_title(\"Produk paling sedikit terjual\", loc=\"center\", fontsize=18)\n",
        "ax[1].tick_params(axis='y', labelsize=15)\n",
        "\n",
        "plt.suptitle(\"Produk paling banyak dan paling sedikit terjual\", fontsize=20)\n",
        "plt.show()"
      ]
    },
    {
      "cell_type": "markdown",
      "metadata": {
        "id": "MOED8T2liepi"
      },
      "source": [
        "> Terlihat pada grafik diatas, Produk yang paling banya terjual adalah bed_bath_table. dan produk yang paling sedikit terjual adalah auto.\n"
      ]
    },
    {
      "cell_type": "markdown",
      "metadata": {
        "id": "KU54Lu7-c8Bx"
      },
      "source": [
        "### Pertanyaan 2: Berapa total nilai transaksi yang dikeluarkan pelanggan dalam beberapa bulan terakhir?"
      ]
    },
    {
      "cell_type": "code",
      "execution_count": null,
      "metadata": {
        "colab": {
          "base_uri": "https://localhost:8080/",
          "height": 206
        },
        "id": "jkO5kTJq9S1Y",
        "outputId": "b6c2d769-0906-4949-dc98-3bf043f62fe7"
      },
      "outputs": [],
      "source": [
        "monthly_df = all_data.resample(rule='M', on='order_approved_at').agg({\n",
        "    \"order_id\": \"nunique\",\n",
        "})\n",
        "monthly_df.index = monthly_df.index.strftime('%B') #mengubah format order_approved_at menjadi Tahun-Bulan\n",
        "monthly_df = monthly_df.reset_index()\n",
        "monthly_df.rename(columns={\n",
        "    \"order_id\": \"order_count\",\n",
        "}, inplace=True)\n",
        "monthly_df.head()"
      ]
    },
    {
      "cell_type": "code",
      "execution_count": null,
      "metadata": {
        "id": "ccltZ9R7k_AD"
      },
      "outputs": [],
      "source": [
        "monthly_df = monthly_df.sort_values('order_count').drop_duplicates('order_approved_at', keep='last')"
      ]
    },
    {
      "cell_type": "code",
      "execution_count": null,
      "metadata": {
        "colab": {
          "base_uri": "https://localhost:8080/",
          "height": 206
        },
        "id": "Y79-_SBTl8z7",
        "outputId": "43a17b8b-9237-4db5-fccc-d407ab3e975c"
      },
      "outputs": [],
      "source": [
        "monthly_df.head()"
      ]
    },
    {
      "cell_type": "code",
      "execution_count": null,
      "metadata": {
        "colab": {
          "base_uri": "https://localhost:8080/",
          "height": 426
        },
        "id": "LDiovytAlcci",
        "outputId": "331261bd-8036-4961-9317-45fe2a747f07"
      },
      "outputs": [],
      "source": [
        "monthly_df.sort_values(by='order_count')"
      ]
    },
    {
      "cell_type": "code",
      "execution_count": null,
      "metadata": {
        "id": "BeeTjCAAoK8D"
      },
      "outputs": [],
      "source": [
        "month_mapping = {\n",
        "    \"January\": 1,\n",
        "    \"February\": 2,\n",
        "    \"March\": 3,\n",
        "    \"April\": 4,\n",
        "    \"May\": 5,\n",
        "    \"June\": 6,\n",
        "    \"July\": 7,\n",
        "    \"August\": 8,\n",
        "    \"September\": 9,\n",
        "    \"October\": 10,\n",
        "    \"November\": 11,\n",
        "    \"December\": 12\n",
        "}\n",
        "\n",
        "monthly_df[\"month_numeric\"] = monthly_df[\"order_approved_at\"].map(month_mapping)\n",
        "monthly_df = monthly_df.sort_values(\"month_numeric\")\n",
        "monthly_df = monthly_df.drop(\"month_numeric\", axis=1)"
      ]
    },
    {
      "cell_type": "code",
      "execution_count": null,
      "metadata": {
        "colab": {
          "base_uri": "https://localhost:8080/",
          "height": 507
        },
        "id": "j2jVSnfVkK1P",
        "outputId": "e7a6344d-8b9f-4fe1-d1b6-3a4283fdf8e9"
      },
      "outputs": [],
      "source": [
        "plt.figure(figsize=(10, 5))\n",
        "plt.plot(\n",
        "    monthly_df[\"order_approved_at\"],\n",
        "    monthly_df[\"order_count\"],\n",
        "    marker='o', \n",
        "    linewidth=2,\n",
        "    color=\"#068DA9\"\n",
        ")\n",
        "plt.title(\"Number of Orders per Month (2018)\", loc=\"center\", fontsize=20)\n",
        "plt.xticks(fontsize=10, rotation=25)\n",
        "plt.yticks(fontsize=10)\n",
        "plt.show()"
      ]
    },
    {
      "cell_type": "markdown",
      "metadata": {
        "id": "wQPE3wdvo0dc"
      },
      "source": [
        "Terlihat pada grafik diatas bahwa terjadi penurunan signifikan pada bulan September dan mengalami penaikan yang signifikan pada bulan November."
      ]
    },
    {
      "cell_type": "markdown",
      "metadata": {
        "id": "F2Bo_ypQ9RfH"
      },
      "source": [
        "### Pertanyaan 3: Bagaimana kinerja penjualan platform E-Commerce kami berkembang sepanjang waktu?"
      ]
    },
    {
      "cell_type": "code",
      "execution_count": null,
      "metadata": {
        "colab": {
          "base_uri": "https://localhost:8080/",
          "height": 206
        },
        "id": "mFfSoeLkdlYt",
        "outputId": "00f0d96c-16ce-427e-e700-e87b01001c33"
      },
      "outputs": [],
      "source": [
        "monthly_spend_df = all_data.resample(rule='M', on='order_approved_at').agg({\n",
        "    \"payment_value\":\"sum\"\n",
        "})\n",
        "monthly_spend_df.index = monthly_spend_df.index.strftime('%B') #mengubah format order_approved_at menjadi Tahun-Bulan\n",
        "monthly_spend_df = monthly_spend_df.reset_index()\n",
        "monthly_spend_df.rename(columns={\n",
        "    \"payment_value\":\"total_spend\"\n",
        "}, inplace=True)\n",
        "monthly_spend_df.head()"
      ]
    },
    {
      "cell_type": "code",
      "execution_count": null,
      "metadata": {
        "id": "v4MRCcoqOteQ"
      },
      "outputs": [],
      "source": [
        "monthly_spend_df = monthly_spend_df.sort_values('total_spend').drop_duplicates('order_approved_at', keep='last')"
      ]
    },
    {
      "cell_type": "code",
      "execution_count": null,
      "metadata": {
        "colab": {
          "base_uri": "https://localhost:8080/",
          "height": 206
        },
        "id": "y55Kja5IO1nE",
        "outputId": "100a5c3a-5107-485c-dd92-e3007fc5d4d7"
      },
      "outputs": [],
      "source": [
        "monthly_spend_df.head()"
      ]
    },
    {
      "cell_type": "code",
      "execution_count": null,
      "metadata": {
        "colab": {
          "base_uri": "https://localhost:8080/",
          "height": 426
        },
        "id": "DrVM38nzO-Eh",
        "outputId": "ad55e757-c9dc-4caf-a0d6-8942d8905084"
      },
      "outputs": [],
      "source": [
        "monthly_spend_df.sort_values(by='total_spend')"
      ]
    },
    {
      "cell_type": "code",
      "execution_count": null,
      "metadata": {
        "id": "4m6fmvVYPBxF"
      },
      "outputs": [],
      "source": [
        "monthly_spend_df[\"month_numeric\"] = monthly_spend_df[\"order_approved_at\"].map(month_mapping)\n",
        "monthly_spend_df = monthly_spend_df.sort_values(\"month_numeric\")\n",
        "monthly_spend_df = monthly_spend_df.drop(\"month_numeric\", axis=1)"
      ]
    },
    {
      "cell_type": "code",
      "execution_count": null,
      "metadata": {
        "colab": {
          "base_uri": "https://localhost:8080/",
          "height": 507
        },
        "id": "_guCv9XcPHLQ",
        "outputId": "3db3b762-6848-4fed-dce7-e247c6a626fa"
      },
      "outputs": [],
      "source": [
        "plt.figure(figsize=(10, 5))\n",
        "plt.plot(\n",
        "    monthly_spend_df[\"order_approved_at\"],\n",
        "    monthly_spend_df[\"total_spend\"],\n",
        "    marker='o', \n",
        "    linewidth=2,\n",
        "    color=\"#068DA9\"\n",
        ")\n",
        "plt.title(\"Total customer spend money per Month (2018)\", loc=\"center\", fontsize=20)\n",
        "plt.xticks(fontsize=10, rotation=25)\n",
        "plt.yticks(fontsize=10)\n",
        "plt.show()"
      ]
    },
    {
      "cell_type": "markdown",
      "metadata": {
        "id": "UjuKJvYkPlTr"
      },
      "source": [
        "Pada grafik diatas, total uang yang dihabiskan paling banyak pada bilang November dan paling sedikit pada bulan September."
      ]
    },
    {
      "cell_type": "markdown",
      "metadata": {
        "id": "j3rRAb0hdXZh"
      },
      "source": [
        "### Pertanyaan 4: Sejauh mana tingkat kepuasan pelanggan terhadap layanan kami?"
      ]
    },
    {
      "cell_type": "code",
      "execution_count": null,
      "metadata": {
        "colab": {
          "base_uri": "https://localhost:8080/",
          "height": 501
        },
        "id": "t_VKhzRjdl5d",
        "outputId": "f04ed50c-65e8-4404-e2a6-e84db64ea58c"
      },
      "outputs": [],
      "source": [
        "review_scores = all_data['review_score'].value_counts().sort_values(ascending=False)\n",
        "\n",
        "most_common_score = review_scores.idxmax()\n",
        "\n",
        "sns.set(style=\"darkgrid\")\n",
        "\n",
        "plt.figure(figsize=(10, 5))\n",
        "sns.barplot(x=review_scores.index, \n",
        "            y=review_scores.values, \n",
        "            order=review_scores.index,\n",
        "            palette=[\"#068DA9\" if score == most_common_score else \"#D3D3D3\" for score in review_scores.index]\n",
        "            )\n",
        "\n",
        "plt.title(\"Rating by customers for service\", fontsize=15)\n",
        "plt.xlabel(\"Rating\")\n",
        "plt.ylabel(\"Count\")\n",
        "plt.xticks(fontsize=12)\n",
        "plt.show()"
      ]
    },
    {
      "cell_type": "markdown",
      "metadata": {
        "id": "LFyZ9mP1SUO0"
      },
      "source": [
        "Pada grafik diatas menunjukan bahwa pelanggan sangat puas dengan layanan yang disediakan, terbukti dengan data bahwa pelanggan yang memberikan rating 5 memiliki data terbanyak daripada rating yang lainnya."
      ]
    },
    {
      "cell_type": "markdown",
      "metadata": {
        "id": "bueE5fRVdfxb"
      },
      "source": [
        "### Pertanyaan 5: Apa profil demografis dari pelanggan kami, dan apakah ada perbedaan preferensi pembelian di antara mereka?"
      ]
    },
    {
      "cell_type": "markdown",
      "metadata": {
        "id": "jX8lxxGESpMn"
      },
      "source": [
        "#### Berdasarkan customer_state\n",
        "\n"
      ]
    },
    {
      "cell_type": "code",
      "execution_count": null,
      "metadata": {
        "colab": {
          "base_uri": "https://localhost:8080/",
          "height": 206
        },
        "id": "oldzCt3_dmpF",
        "outputId": "a1a0357b-d15b-4b77-b4f9-605d16ebfd2e"
      },
      "outputs": [],
      "source": [
        "bystate_df = all_data.groupby(by=\"customer_state\").customer_id.nunique().reset_index()\n",
        "bystate_df.rename(columns={\n",
        "    \"customer_id\": \"customer_count\"\n",
        "}, inplace=True)\n",
        "bystate_df.head()"
      ]
    },
    {
      "cell_type": "code",
      "execution_count": null,
      "metadata": {
        "colab": {
          "base_uri": "https://localhost:8080/",
          "height": 574
        },
        "id": "3Hi0v8IRS3Lr",
        "outputId": "beeca09a-2a5d-4c9c-9b38-4868eee28d4a"
      },
      "outputs": [],
      "source": [
        "plt.figure(figsize=(12, 6))\n",
        "\n",
        "most_common_state = bystate_df.loc[bystate_df['customer_count'].idxmax(), 'customer_state']\n",
        "\n",
        "bystate_df = bystate_df.sort_values(by='customer_count', ascending=False)\n",
        "\n",
        "sns.barplot(x='customer_state', \n",
        "            y='customer_count', \n",
        "            data=bystate_df, \n",
        "            palette=[\"#068DA9\" if state == most_common_state else \"#D3D3D3\" for state in bystate_df['customer_state']]\n",
        "            )\n",
        "\n",
        "plt.title(\"Number customers from State\", fontsize=15)\n",
        "plt.xlabel(\"State\")\n",
        "plt.ylabel(\"Number Customers\")\n",
        "plt.xticks(fontsize=10)\n",
        "plt.show()"
      ]
    },
    {
      "cell_type": "markdown",
      "metadata": {
        "id": "zVMLi_AiXqjw"
      },
      "source": [
        "Pada grafik diatas berdasarkan State, SP memiliki data pelanggan terbanyak."
      ]
    },
    {
      "cell_type": "code",
      "execution_count": null,
      "metadata": {
        "colab": {
          "base_uri": "https://localhost:8080/",
          "height": 686
        },
        "id": "o_JShHxsXxrF",
        "outputId": "4573960a-86fe-4694-e9c3-eccd2200ae0e"
      },
      "outputs": [],
      "source": [
        "bycity_df = all_data['customer_city'].value_counts().head(10)\n",
        "\n",
        "plt.figure(figsize=(12, 6))\n",
        "\n",
        "most_common_city = bycity_df.idxmax()\n",
        "\n",
        "bycity_df = bycity_df.sort_values(ascending=False)\n",
        "\n",
        "sns.barplot(x=bycity_df.index, \n",
        "            y=bycity_df.values, \n",
        "            palette=[\"#068DA9\" if city == most_common_city else \"#D3D3D3\" for city in bycity_df.index]\n",
        "            )\n",
        "\n",
        "plt.title(\"Number of Customers from Each City\", fontsize=15)\n",
        "plt.xlabel(\"City\")\n",
        "plt.ylabel(\"Number of Customers\")\n",
        "plt.xticks(rotation=45, fontsize=10)\n",
        "plt.show()"
      ]
    },
    {
      "cell_type": "markdown",
      "metadata": {
        "id": "tr8__TBOY-WL"
      },
      "source": [
        "Pada grafik diatas berdasarkan City, sao paulo memiliki data pelanggan terbanyak."
      ]
    },
    {
      "cell_type": "code",
      "execution_count": null,
      "metadata": {
        "colab": {
          "base_uri": "https://localhost:8080/",
          "height": 646
        },
        "id": "WrJljHpPZCgz",
        "outputId": "7c5576ee-8b99-4d5a-fca7-888077d91718"
      },
      "outputs": [],
      "source": [
        "order_status_counts = all_data['order_status'].value_counts()\n",
        "\n",
        "plt.figure(figsize=(8, 6))\n",
        "order_status_counts.plot(kind='bar', color='skyblue')\n",
        "plt.title('Order Status')\n",
        "plt.xlabel('Status')\n",
        "plt.ylabel('Number of Orders')\n",
        "plt.show()"
      ]
    },
    {
      "cell_type": "markdown",
      "metadata": {
        "id": "NfkX1n9yZu7G"
      },
      "source": [
        "Pada grafik diatas status order paling banyak adalah delivered."
      ]
    },
    {
      "cell_type": "markdown",
      "metadata": {
        "id": "ksd8_CoS-dR0"
      },
      "source": [
        "### Pertanyaan 6: Di wilayah geografis mana kita memiliki jumlah pelanggan terbanyak?"
      ]
    },
    {
      "cell_type": "code",
      "execution_count": null,
      "metadata": {
        "id": "ftTy_HRJ9nBw"
      },
      "outputs": [],
      "source": [
        "other_state_geolocation = geo_df.groupby(['geolocation_zip_code_prefix'])['geolocation_state'].nunique().reset_index(name='count')\n",
        "other_state_geolocation[other_state_geolocation['count']>= 2].shape\n",
        "max_state = geo_df.groupby(['geolocation_zip_code_prefix','geolocation_state']).size().reset_index(name='count').drop_duplicates(subset = 'geolocation_zip_code_prefix').drop('count',axis=1)"
      ]
    },
    {
      "cell_type": "code",
      "execution_count": null,
      "metadata": {
        "id": "oH_ds6RO9s2F"
      },
      "outputs": [],
      "source": [
        "geolocation_silver = geo_df.groupby(['geolocation_zip_code_prefix','geolocation_city','geolocation_state'])[['geolocation_lat','geolocation_lng']].median().reset_index()\n",
        "geolocation_silver = geolocation_silver.merge(max_state,on=['geolocation_zip_code_prefix','geolocation_state'],how='inner')"
      ]
    },
    {
      "cell_type": "code",
      "execution_count": null,
      "metadata": {
        "id": "wjWITkxI9tVz"
      },
      "outputs": [],
      "source": [
        "customers_silver = customers_df.merge(geolocation_silver,left_on='customer_zip_code_prefix',right_on='geolocation_zip_code_prefix',how='inner')"
      ]
    },
    {
      "cell_type": "code",
      "execution_count": null,
      "metadata": {
        "colab": {
          "base_uri": "https://localhost:8080/",
          "height": 270
        },
        "id": "RKsz6lkB_aAN",
        "outputId": "b9f7f28f-78a3-4904-b182-5ec37759d6e3"
      },
      "outputs": [],
      "source": [
        "customers_silver.head()"
      ]
    },
    {
      "cell_type": "code",
      "execution_count": null,
      "metadata": {
        "id": "vxox1axj_eRn"
      },
      "outputs": [],
      "source": [
        "customers_silver.to_csv(\"dataset/geolocation.csv\", index=False)"
      ]
    },
    {
      "cell_type": "code",
      "execution_count": null,
      "metadata": {
        "id": "IF_Y6eMC93hq"
      },
      "outputs": [],
      "source": [
        "def plot_brazil_map(data):\n",
        "    brazil = mpimg.imread(urllib.request.urlopen('https://i.pinimg.com/originals/3a/0c/e1/3a0ce18b3c842748c255bc0aa445ad41.jpg'),'jpg')\n",
        "    ax = data.plot(kind=\"scatter\", x=\"geolocation_lng\", y=\"geolocation_lat\", figsize=(10,10), alpha=0.3,s=0.3,c='maroon')\n",
        "    plt.axis('off')\n",
        "    plt.imshow(brazil, extent=[-73.98283055, -33.8,-33.75116944,5.4])\n",
        "    plt.show()"
      ]
    },
    {
      "cell_type": "code",
      "execution_count": null,
      "metadata": {
        "colab": {
          "base_uri": "https://localhost:8080/",
          "height": 792
        },
        "id": "A4cBnyAX98dm",
        "outputId": "57ebfa06-993c-4f34-df63-41cd561f42dd"
      },
      "outputs": [],
      "source": [
        "plot_brazil_map(customers_silver.drop_duplicates(subset='customer_unique_id'))"
      ]
    },
    {
      "cell_type": "markdown",
      "metadata": {
        "id": "0bLUqI_fAQAG"
      },
      "source": [
        "Banyak pelanggan yang berasalah negara bagian tenggara dan selatan."
      ]
    },
    {
      "cell_type": "markdown",
      "metadata": {
        "id": "J2CnXYGT9Tc2"
      },
      "source": [
        "## Conclusion"
      ]
    },
    {
      "cell_type": "markdown",
      "metadata": {
        "id": "f73FBkLw9V8C"
      },
      "source": [
        "1. Produk mana yang mencatat penjualan tertinggi dan tertinggi?\n",
        "Berdasarkan visualisasi yang telah disajikan, terlihat bahwa produk bed_bath_table menjadi yang paling sering dibeli oleh pelanggan, sementara produk auto memiliki jumlah penjualan yang paling sedikit.\n",
        "\n",
        "2. Berapa total nilai transaksi yang dikeluarkan pelanggan dalam beberapa bulan terakhir?\n",
        "Performa penjualan E-Commerce menunjukkan kestabilan pada periode Januari hingga Mei, mengalami penurunan yang tidak signifikan pada bulan Juni dan Juli, kembali mengalami penaikan yang tidak signifikan pada bulan Agustus, dan mengalami penurunan yang sangat signifikan pada bulan September. Namun, terjadi penaikan yang sangat signifikan pada bulan Oktober-November, diikuti dengan penurunan kembali pada bulan Desember.\n",
        "\n",
        "3. Bagaimana kinerja penjualan platform E-Commerce kami berkembang sepanjang waktu?\n",
        "Berdasarkan visualisasi yang telah disajikan, total pengeluaran pelanggan menunjukkan stabilitas pada bulan Januari hingga Mei, mengalami penurunan pada bulan Juni hingga September, mengalami kenaikan yang signifikan pada bulan Oktober-November, dan kembali menurun pada bulan Desember.\n",
        "\n",
        "4. Sejauh mana tingkat kepuasan pelanggan terhadap layanan kami?\n",
        "Tingkat kepuasan pelanggan terhadap layanan yang diberikan sangat memuaskan, tercermin dari visualisasi yang menunjukkan bahwa sebagian besar pelanggan memberikan rating 5, dan rating 4 menduduki urutan kedua terbanyak.\n",
        "\n",
        "5. Apa profil demografis dari pelanggan kami, dan apakah ada perbedaan preferensi pembelian di antara mereka?\n",
        "Kota-kota dengan pelanggan terbanyak terletak di negara bagian Sao Paulo, diikuti oleh Rio de Janeiro. Mayoritas status order item pelanggan adalah \"delivered\", menandakan bahwa pengiriman barang berjalan dengan sukses, sejalan dengan tingginya rating 5 yang diberikan oleh pelanggan terhadap pelayanan E-Commerce.\n",
        "\n",
        "6. Di wilayah geografis mana kita memiliki jumlah pelanggan terbanyak?\n",
        "Berdasarkan grafik, terlihat bahwa terdapat lebih banyak pelanggan di bagian tenggara dan selatan, dengan konsentrasi tertinggi di kota-kota yang merupakan ibu kota, seperti São Paulo, Rio de Janeiro, dan Porto Alegre."
      ]
    }
  ],
  "metadata": {
    "colab": {
      "provenance": []
    },
    "kernelspec": {
      "display_name": "Python 3",
      "name": "python3"
    },
    "language_info": {
      "codemirror_mode": {
        "name": "ipython",
        "version": 3
      },
      "file_extension": ".py",
      "mimetype": "text/x-python",
      "name": "python",
      "nbconvert_exporter": "python",
      "pygments_lexer": "ipython3",
      "version": "3.11.6"
    }
  },
  "nbformat": 4,
  "nbformat_minor": 0
}
